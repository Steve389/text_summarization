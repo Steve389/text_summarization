{
 "cells": [
  {
   "cell_type": "markdown",
   "id": "ae029006",
   "metadata": {},
   "source": [
    "# Using knkarthick/bart-large-xsum-samsum model and keybert to summarize text."
   ]
  },
  {
   "cell_type": "markdown",
   "id": "7216317b",
   "metadata": {},
   "source": [
    "### 1. Import the necessary dependencies."
   ]
  },
  {
   "cell_type": "code",
   "execution_count": 1,
   "id": "bf226419",
   "metadata": {},
   "outputs": [
    {
     "name": "stderr",
     "output_type": "stream",
     "text": [
      "/Users/steven/opt/anaconda3/envs/microsoft_team_automation_software/lib/python3.9/site-packages/tqdm/auto.py:22: TqdmWarning: IProgress not found. Please update jupyter and ipywidgets. See https://ipywidgets.readthedocs.io/en/stable/user_install.html\n",
      "  from .autonotebook import tqdm as notebook_tqdm\n",
      "Downloading: 100%|█████████████████████████████████████████████| 1.55k/1.55k [00:00<00:00, 604kB/s]\n",
      "Downloading: 100%|████████████████████████████████████████████| 1.51G/1.51G [00:54<00:00, 29.7MB/s]\n",
      "Downloading: 100%|████████████████████████████████████████████████| 337/337 [00:00<00:00, 72.4kB/s]\n",
      "Downloading: 100%|███████████████████████████████████████████████| 780k/780k [00:03<00:00, 253kB/s]\n",
      "Downloading: 100%|███████████████████████████████████████████████| 446k/446k [00:01<00:00, 298kB/s]\n",
      "Downloading: 100%|█████████████████████████████████████████████| 1.29M/1.29M [00:03<00:00, 440kB/s]\n",
      "Downloading: 100%|████████████████████████████████████████████████| 239/239 [00:00<00:00, 43.9kB/s]\n"
     ]
    }
   ],
   "source": [
    "import pandas as pd\n",
    "\n",
    "from transformers import pipeline\n",
    "\n",
    "summarizer = pipeline(\"summarization\", model=\"knkarthick/bart-large-xsum-samsum\")"
   ]
  },
  {
   "cell_type": "markdown",
   "id": "0a2cb00f",
   "metadata": {},
   "source": [
    "### 2. Import the csv file, extract the text as a new line separated concatenated string, then tokenize the text.\n",
    "\n",
    "After importing the csv file as a dataframe, I want to extract the text column as a concatenation of strings. Once I have the text in the desired format, I will use 'sent_tokenize' to identify all the sentences in the text."
   ]
  },
  {
   "cell_type": "code",
   "execution_count": 78,
   "id": "c3c9f038",
   "metadata": {},
   "outputs": [
    {
     "data": {
      "text/plain": [
       "\"And first one in June this year.And it's been a month since we had the last one, but just to reiterate.We didn't review of the SO  assessment needed by PERSON B. PERSON B went to portfolio council afterwards to present it and get whitelisting. We got that from Denmark and Finland during the portfolio Council meeting, but Sweden and Norway had to go back to to secure that. But it came rather quickly. So today we have full whitelisting log, SO from Portfolio Council as well, and the implementation is processing.Today.Good. Justin, adoption platform, that's a recommendation also led by PERSON B.So basically PERSON B, I think the stage is yours for a presentation and the discussion.Yep, I have also invited earlier, but he notified that he'll be a few minutes late due to some.Some errands that he has to run.Alright, let me share.Let me share my screen.Let me know when you can see it.Yep.Yep.OK.Ohh really is also here. Hi.OK, good. So today we're talking about the customer digital adoption platform.Umm.First of all.I'd like to take a step back from the main topic, but to reiterate that we are surrounded by software.Uh, it is everywhere we go. It is present in any kind of devices nowadays, starting from.Transportation like planes, cars, uh space shuttles, you know, ending with kitchen appliances, it's everywhere and it's connected and.It's getting more and more involved with with us humans and we interact.With this offer everyday and the main.The main the main thing is how the the quality of interaction, so whether that's efficient, how we interact it, can we adopt it, the software and the solution to our lives or can or we cannot, and that determines whether it, the product itself is good or not.Whether that's suitable for us and.That leads us to the term digital adoption, what it is and basically that's.That is.That is a way how to adopt any given resource you are presented with and make use of that to understand it and to use it to its best capability to serve your purpose.It's a very long description, but the shorter one would be learning how to use anything you face and why digital. Because we are talking about software. Therefore that's digital.So what articles and objectives of digital adoption?And it's very simple. I I'm fairly certain and everyone of us have seen it. So it's the.Tool tips, announcements, walkthroughs.Any kind of self service functionality guidance through.Ohm some features and whatnot.And I know it takes for the back end users.Umm.So basically, I'm sure you all have seen when you install a new app on your phone for example, there's a short guide on how to use it, or when you subscribe to a new service and a web, you get this short walkthrough with highlighting the major key features. That's basically is the adoption helper. What we are talking about today. And of course there comes many benefits with such platforms or such tools or.Augmenting augmentation of the existing tools we have or or customer services. Obviously we increase the efficiency of customer onboarding and therefore that increases the product or service usage. And when people are using the things we offer more, they are obviously spend more money which is good for us and they they can resolve their the challenges they faced themselves.And therefore reducing the the the turn and the overhead work on the back end resources like our stuff that has to go through requests and tickets and whatnot and also it helps us to launch new features faster to the market, we can be sure that something new we launch, we'll reach the customers fairly quickly because they will know about it.And So what would be the owners of such such platforms? Such tool?Umm, you know Tia that would be 2 main groups that would be ecommerce and last cycle management and there are a few applications that go under that.Umm and initial scope we have looked at Ishop cloud Portal which is ecommerce and asset management in my atea as a life cycle management applications and they will use pretty much the same thing. And what I need to point out that owners are responsible to maintain the content of the.Uh update guides of the pop ups and whatnot in their own application, so it's it's one single tool, but it's owned and managed by several groups, and those groups are.Have the full control and full ownership of anything that they put out to customers.Why we need it? Well, first of all, we don't have it. That's that would be #1 obvious.Obvious answer, but again.The market and the digital option solutions is growing rapidly and companies are investing heavily to make sure that the products and services are.Are are usable and if atea wants to be ahead of the curve and be market leader, we need to know what customers want because their needs and and wants they they change constantly in everyday basis and we want our customers to return. We want to keep in touch with our customers rather than being a one time transaction when they purchase something and leave.So we want to make our services attractive and interactive, so the the people feel like they are interacting with the services we provide and therefore are willing to use them and therefore bring more money for us.Uh, beginning revenue and.So we had, look, we had a look at number of tools with at least was very long because.The market is ever growing and.Actually, since we started looking into those solutions, uh, the market player number has increased significantly, but we had several demos. We had 6 demos with vendors and from those six we shortlisted 3.Uh, those three are PRODUCT A PRODUCT B and PRODUCT C, so shortly about all of them. PRODUCT A is one of the major players in Europe. It's it's an enterprise enterprise grade platform with very, very good usability. Anyone can create a guide. It's very flexible, very adoptable and within the package they also include the customer journey technician. So it means there's a dedicated person.That helps us to build.Anything we want and to adopt the product for our needs to our branding, to our content so that it's maximized the full potential of their platform. The second one is the PRODUCT B, it's a growing company, it's an upcoming player in the market.Also based off Europe.Umm.It is also very flexible, it's it's all it is very robust. So while it might lack some UX features, it it is very technically capable, but it's not that user friendly.Umm. However, it's it's very competitively priced.And the third one is PRODUCT C, which is it's an enterprise solution pretty much with all the bells and whistles that you would ever want and need in a solution. It's highly customizable and yeah.Also very user friendly, but that comes with the price and the price is we can see the price difference is here.Umm.So yeah, I won't go too much on those. So what is our recommendation?Most of the tools, if not all of them meet the the all basic business requirements. All the requirements we have but they, as they say, the devil is always in the detail and only in demos we could we could really see the true nature of those platforms and from all of them user lane is the.Is the best solution in our opinion.Umm.Because it's it's enterprise great, but it's not priced as enterprise solution.Honey.It's very capable, it's very user friendly and it has.By far the best multi language support, which is also pretty important for us as we operate in different markets.And the second one would be would be PRODUCT B because it's very, very, very good value, it's very robust and it's very straightforward. And the third one is opt, if it's really good, it's it's truly very good solution, but it's it's it's pretty pricey one. So therefore it landed on the 3rd.Uh, third place of our list.And that's pretty much the IT there's also appendix in the presentation with the data about.Deep market about case studies and metrics in our own applications, but I won't go into those at the moment.We can.I should have presentation afterwards, alright?Talking.So we had the similar product called PRODUCT D.Yes.It would be good if you at least mention it in your presentation why you didn't consider it.Ah yes.For for this part.Yes, so uh.We eliminated that solution because of the pricing model they have. They are.Umm, focusing on user numbers and with the customer facing user numbers we have.Uh, the price would be just unbearable.Whether as.For example PRODUCT A, they have all included package where you pay for the application and support.But they don't care how many users you have.So therefore it's, yeah, it's more reasonable to your tasks solution.But in the presentation it would be good if you.Yes, yes. Yeah, that's true.Because it was quite recently, we decided on the on that tool. So just mention it in your presentation. That would be fantastic.Yeah. Alright. Thank you. Yeah.I have a question on the pricing. I know PRODUCT C is very pricey, but it sounds like you are also really impressed by what it offers us. What is would there be anything that actually?Would allow us to pay that price in in other benefits. Is the maintenance of how you build up the the UX part is that easier to do an action than it is in PRODUCT A and could that make a make a difference on the price evaluation for us?No, I don't think so. But judging by the demos we had, they are making neck and it didn't make sense to pay double the price.And has security been involved? Is there anything we should have security involved in in this?Are we storing data anywhere?You know.OK. Other questions or comments?Yep.Yeah, I have some first stuff I I think we need to include the PRODUCT D as you say, because someone will ask later on a year from now, you know, what the heck do you do not consider it. So it needs to be in here. That's kind of evidence for it. The other part I have is that as we go to portfolio Council, we always ask for position it into the North Star architecture and we should have it here as part of the ITECH as well. So we can reuse that later on. But that's for the future, right. But we need to have it in here because it will be reused as soon as you go to portfolio Council.3rd Part I have is you know what kind of tool is this because I have a little bit of an issue to position this. To me it's the tools and methods application or tool set. You know something that you use to enhance other tools. It's not a tool that that you provide to the end user directly.So it's it's something that that I enrich other solutions.And thereby I believe it's it's part of the enabling platforms and so on and not owned by an application itself.But is there another view of this? Because this is, you know, I see that it's can as well support dynamics in the future and so on, right? If we want to implement that, it's a, it's a great platform to do that.Yes, I guess, yeah.I would, I would follow up and I want and have it. Could we used it for PRODUCT E instead of the PRODUCT D. Now could we have one too?We could have, yeah.But I think the major selling point of as I believe PRODUCT D and that's please correct me if I'm wrong, was that PRODUCT E the water of the main requirements was for it to integrate with the classical interface.That was both.But only if you are.Uh.True, true.Sorry.Yeah.So so I I I I don't believe PRODUCT A is capable of doing that.But it needs to be checked, right? Because it's it is a possibility there as well. If it has not been put in play yet N PRODUCT D.We should at least raise it that this is a possibility.I know that all guests not on the call, but you know this is this is a very wide platform, it can, it can provide a lot of value to not only the selected applications that Elias on to be sunbrella but a lot of the other possibilities as well, right.Yes.Well, initially it was the main requirements that were discussed were were for customer facing applications and yeah. But of course we can expand that because they also of course offer.Umm.Offer any kind of internal patient support as well, including SAT which is mentioned in their site as a customer. So.Yeah.Because even if the other doesn't have a requirement today, it would be bad if we bring yet another doc tool just because dynamics needs once and PRODUCT E needs one, and then catalyst one believes that they need something and we're being in a fourth one.Yeah.So it would be nice to have one, you know, this kind covers everything. If you want to go away from this one. Sure, you can do that, but you need a good reason for it.OK.Right.Yes.I raised my hand, maybe.OK.Yes, your turn.I missed the store to the meeting. Sorry for that. So I don't know what is this service is doing. I don't know if it's in service or it's an on Prem solution but doesn't it process any of atea data?Uh, not really. It's a it's a sad solution. It's basically.Courtney, but that is added to the web page which invokes a JavaScript library which is like an overlay of highlighting elements in a page.OK.Umm, it doesn't store any kind of user data.OK.You're you remember Clipper. He's like you're that old.Yeah.Yeah. So this is a Clipper for the the the next generation.OK, OK.It's like is this the same one we've had in in Montrose, the little guy in the down left corner?Yeah. OK.That's the that's PRODUCT A.But but there isn't analytics part a shared as part of PRODUCT A. What kind of analytics is that and what kind of data is it based on?It counts like how many clicks there wasn't a particular notification that we publish. Or let's say there's a walkthrough guide and it just monitors how many users have completed the guide on which that the majority have dropped and so forth.OK, so let's.Without indicating any kind of user identity.OK, then I rest my case.And the other.So I I have more. Of course I have more when it comes to maintaining this one. I understand that you know my atea and so on will use this right and actually point out there they will take care of of using it. They will learn how about it and so on do we need to add more people or more effort to the teams that are currently in place or you know how how do they get this kind of training and this kind of new skill.40 myatea part we had meetings with Daniel and.Hello I think ohh and they are taking over that they have the capabilities and resources to do that for each shop. I think it was a kind of remember who it was but basically.OK.I think it is is is ready to jump in.Yes, that would be better, I think.It is of course true that that we have agreed. Let me start a little bit different. Keep in mind this is for customer oriented systems. That is how the demand started all the way back in March 21.For my atea, for ACP, for E shop and Atea asset management.And all four of them being customer oriented, that's also the pricing scheme will PRODUCT E. Now as we have established.We have also looked at each other and work with each other throughout this process with the help of robots and Alex that we will.Find the needed time and resources to both enable and work with this focused.So we can utilize it to some extent. We will free up a little bit of time in regards to support as we have now in regards to giving customers information about new features and eShop, new features and ACP or what it is and guiding customers, onboarding customers into the different systems. So a little bit of time we'll be freed up there. That is a clear expectation.And in the little bit longer run, we have a very small team sitting in the chat service center and Riga right now that is doing on a regular basis AC some ACP work that will go away actually on June 13th when something in ACP related to ACP will be closed down. So the thinking and the plan is also to utilize that little team for this and build the needed expertise.On on it. That's the work right now. We need to get experience. Atea does customer Orient that not have any solution of the kind available today?So we also need to figure out how to work with it and also see how customers react on it going forward. If this is also something to be used in internal systems, obviously make sense.If it's as good and powerful as Sara PRODUCT E, I don't know.As PERSON B puts it, we looked at different solution. He, PERSON B did the initial screening of the of the market.Put forward some suggestion, had demos talked about it, looked at it and and that is how PRODUCT A came out to be. The recommended solution from our side, from the business side. That is how we look at it because it also looked as it looks it is rather easy to go to and get going with it. On top of that, PRODUCT A has offered quite a rather rather big project onboarding plan fast and we will find the time to get it done.In the different portals, not immediately from Monday morning, if obviously it it takes a little bit of time, but we will do it throughout the summer and fall and get it enabled, yes.So if I summarize, that means that the existing team will be able to cover it.Yes.In all four solutions, yeah.Then I think we should put that in. So it's clear that there are no additional expectations.Oh, that was that was data on one of the slides. If you go back a little bit, actually I think it was stated on slide.Slide 6.Ownership under the ownership slot. If you show that.Robert.As mentioned.Just want to.I don't see anything around the getting you need it for increased budgets or not, but.Yeah.Owners of the tap I also responsible for the resource implementation complementarians of the application costs associated with it, yes.Yes it does.Ohh that is correct.Yeah, but it doesn't say if we need to add resources or not. So let's just state that the existing team can take care of it.Yeah.Kind of.So there's no need to expand or anything like that from a runtime or anything like that, which is great. Just just the license that needs them to be put in place.But it's just.Yeah, yeah. Being allowed to do use it.Right.That is what we need.And the money that is a portfolio Council.And and what if they portfolio Council views that is to you know, if they push you back to the less expensive number too?What will be the?Disadvantage of going with that one? Do we fail in some areas or what will happen?On.Yeah.How's it if I put like this? How's #2 even being checked from a security and so on perspective, you know it's.We only have one option that we are putting forward, right? But I my question is just you know pure on financials, if they say the other one is so less expensive, we suggest you go with that one unless you see big issues with it and you don't have any big issues, there is a risk that they are pushing you back into that one.I don't see immediately thinking back about the demos, the dialogues where we were involved, where I was involved. I don't see any big issues to going to number 2. I don't expect them just from a cost perspective because at the is my father most expensive one. I don't see any problems with inline.The back end, all the the administration off it seems.Easier.To work with when we talk about PRODUCT A then it will PRODUCT B. But I don't see any functionality per se. We lose by going with for example PRODUCT B. No, I don't definitely I don't see that immediately.Yeah, I would.Yeah, the.Yeah.Yeah.But for help us then, then PRODUCT A is quicker to adopt and get in. So we will be more speed. I would say that would be the main advantage of getting used to Langdon.No.Absolutely. That is what we that is why it ended up with user laid. Of course there are functionality differences that one solution has over the other. It's always like that.No.Yeah.I understand the The thing is that you have no big pros, sorry cons about any of them, right? All of them look good. One of the big cons with the third one, that is expensive, but nothing really differs between one and two.No, no technical, per SE technical right things I have to think about again the back end. That is where PRODUCT A by the looks of it from what we've seen have been introduced to looks easier to handle and manage and work with than the others PRODUCT B which seems more like a less mature solution by that. And by that the administration office seems more technical, let's say it's this way and given the fact that it will be.Not necessarily. Hot core technical people needing to work with this.That that is PRODUCT A then easier to go to as it looks.OK.Yes, for from the assessment, which one are the the would you consider being the best partner for us who will be like listen to our demands and our.The time lines? Or would we just be another customer?Of those, the the choices you have done.Yeah.PRODUCT A an empty because they are more focused on product, they are more flexible than the flexibility is built into the product that can adapt to customers more and they are willing to put out like a customer success engineer because with PRODUCT B they are very tight knit company and what you see is what you get.Yeah. So.Write that in the.PDM.Umm.Yeah.Yeah.The summaries because we're looking for a good partner, we really want to have the a partnership with the vendor.What I from a business perspective real like with PRODUCT A, they actually when they prepared came to the demonstration meeting, there were very well prepared, they knew who we were atea that's a big plus. Trust me, one of the others didn't even know who we were. That didn't take the time to prepare properly.PRODUCT A actually also forwarded a business opportunity for five atea if we want to sell PRODUCT A in our market, totally different discussion doesn't have anything to do. What we are looking at here, but they say, hey, if you are interested in selling PRODUCT A, we can give you this deal also on top of that. That shows me that are very interested they are.Well, in front of the bus, so to speak, they see an opportunity with us. So not just another customer, but that dialogue needs to be taken somewhere completely different if we are to resell also that solution and now our market.But that just shows me they think that step further ahead.Yep.Are there comments?We need to update the the ownership part.There can only be 1 owner at the end of it.And I need to have this more as an enabling. It's perfectly fine that this is all for ecommerce life cycle management and the stakeholders in here, but it is impossibility later on to also open up for others and we should make sure that that is understood.And that could come faster actually.Yes, but I I think it's a great thing. You know, if he commerce and life cycle management needs it, then we should push this forward. They would be the first one out, but it also has added value that others can actually tap into this platform and do more. So if you have another eShop or another smart business solution, right, we have a ready to go dig to the adoption platform which is great.As a on the we updated the slide deck for the Portfolio Council slightly. Also take notes here. The ADS ownership for this one in within a DS will be PERSON K.Well.Don't.Yeah, I know that that is in there today.This is.OK.With a slide deck for the Portfolio Council, so sorry for not.Get away.Yeah, forgetting to put that line in here, but to have a very clear ownership, PERSON K. And of course she has been part of that dialogue obviously also.Cookies.Bigger.Thank you.At very quick question, I know this is not for the ITAC yeah, but the the pricing that you have for the portfolio Council that covers all these four applications, right?Some of the elbow sticking cookies.Correct the pricing for the license is €99,000 from a year, not a month, a year for those four applications.There is. I set up implementation for the setup implementation project for 19,000. That means the first year it's 100 and 18,000 as it was stated and going forward year over year it's 99,000 for those four applications, each additional license and that is the good thing here. The very good thing the cost is 36,000 a year.No matter how many users and that was very important here. As PERSON B stated, we actually do not know how many users we have in ACP in my atea in eShop in AM. We know it now, but going forward we we we don't know so alone from the that.Perspective. Having a system that is licensed per user by active user or just per user isn't does not work for atea. We of course from the pricing had already PERSON L having a good dialogue with him and let's say it's this way he got it down from 200 and €12,000 for the first year to the 100 and 18,000.Yeah.And the yearly payment down from 144 to 99.For those four applications.They're good.So he has done his magic already.If that's more.But let's see if we can do more.If there's more to be done, if we come with ten additional applications instead of each one being 36,000, while that is his magic, then hopefully.Great, OK. But it covers initial scope, which is good.Yes.Well, we should just clarify that as well, yeah.OK.Happy thing else.Any other questions?If not, then I'll please ask anybody who has a solid reason of why PERSON J and PERSON B should not take this to portfolio Council on Thursday next week to speak up.I'll keep quiet forever. It's like when you get married.Exactly.I was trying to get to that point earlier.Sorry.Yeah.Doesn't seem to be the case, so we look forward to seeing that next Thursday in coverage Council and wish you the best of luck there. If you think we are hungry lions waiting to attack.Just wait.No, but.Yep.Good. Then I will jump out and you continue your meeting because I guess you don't need me anymore. And thank you for having me today. Have fun. Bye.Thanks, PERSON J. See you.Thank you. Bye.All right.So back to the agenda for today.And next week we will have pre study from PERSON L is planned to be on the agenda for for Thursday next week and also postal address validation service assessment done by second. Those are the plans we have. Second is going to ITAC junior on Monday with this. So that could of course postpone it and I know PERSON L is also finalizing everything but this is the plan topics for next week's agenda. Also be aware that on June 23rd we don't have ITAC.It's it's a national holiday in Latvia, so we would be very few people in in the meeting.And that's for today is just an open mic session. Anybody who has anything to raise in the ITAC, you're free to do so now.Yep.I have again going forward, I would like to see the North Star picture into the ITAC and just for information where we go to the portfolio Council, we also trying to highlight where we hit the must win battles or where we hit the strategies. You know the strategy 2024 if you can map it to that, it will make the session in portfolio Council so much easier.So if we if it's possible as further add in you know, otherwise it's business that needs to explain where it fits into be strategy. But we need to provide them with a North Star fit.Uh child them out.Noted.Nothing else. Thank you all for attending. Thanks for the good questions and the discussion. That's why we're here. See you next Thursday.Thank you.Alright.Thank you. Bye bye.\""
      ]
     },
     "execution_count": 78,
     "metadata": {},
     "output_type": "execute_result"
    }
   ],
   "source": [
    "transcript_df = pd.read_csv('transcript.csv')\n",
    "transcript_df.columns = ['person_name','text']\n",
    "text = transcript_df.text.str.cat(sep='')\n",
    "text"
   ]
  },
  {
   "cell_type": "code",
   "execution_count": 79,
   "id": "f0ee89e2",
   "metadata": {},
   "outputs": [],
   "source": [
    "from nltk import tokenize\n",
    "\n",
    "sentences = tokenize.sent_tokenize(text)"
   ]
  },
  {
   "cell_type": "markdown",
   "id": "6014ba5a",
   "metadata": {},
   "source": [
    "### 3. Divide the text in chunks and then summarize each chunk."
   ]
  },
  {
   "cell_type": "code",
   "execution_count": 81,
   "id": "d165e7d0",
   "metadata": {},
   "outputs": [],
   "source": [
    "chunks = [sentences[x:x+10] for x in range(0, len(sentences), 10)]"
   ]
  },
  {
   "cell_type": "code",
   "execution_count": 84,
   "id": "9f503554",
   "metadata": {},
   "outputs": [],
   "source": [
    "for i in range(17):\n",
    "    chunks[i]= \" \".join(chunks[i])"
   ]
  },
  {
   "cell_type": "code",
   "execution_count": 89,
   "id": "f9655188",
   "metadata": {},
   "outputs": [],
   "source": [
    "for i in range(16):\n",
    "    chunks[i] = summarizer(chunks[i], max_length=130, min_length=30)"
   ]
  },
  {
   "cell_type": "code",
   "execution_count": 90,
   "id": "cb46d1bd",
   "metadata": {},
   "outputs": [
    {
     "data": {
      "text/plain": [
       "[{'summary_text': \"We had a meeting today. And first one in June this year. And it's been a month since we had the last one, but just to reiterate.\"}]"
      ]
     },
     "execution_count": 90,
     "metadata": {},
     "output_type": "execute_result"
    }
   ],
   "source": [
    "chunks[0]"
   ]
  },
  {
   "cell_type": "code",
   "execution_count": 91,
   "id": "797fbfef",
   "metadata": {},
   "outputs": [
    {
     "data": {
      "text/plain": [
       "[[{'summary_text': \"We had a meeting today. And first one in June this year. And it's been a month since we had the last one, but just to reiterate.\"}],\n",
       " [{'summary_text': 'Umm and initial scope we have looked at Ishop cloud Portal which is ecommerce and asset management as a life cycle management applications and they will use pretty much the same thing.'}],\n",
       " [{'summary_text': 'The market and the digital option solutions is growing rapidly and companies are investing heavily to make sure that the products and services are. are usable.'}],\n",
       " [{'summary_text': 'Umm, we had a similar product called PRODUCT D, but we eliminated it because of the pricing model they have.Umm.'}],\n",
       " [{'summary_text': 'I have a question on the pricing. I know PRODUCT C is very pricey, but it sounds like you are also really impressed by what it offers us.'}],\n",
       " [{'summary_text': \"It is part of the North Star architecture. It's part of ITECH as well. So it needs to be in here.\"}],\n",
       " [{'summary_text': \"The major selling point of PRODUCT D was for it to integrate with the classical interface. If we want to implement that, it's a great platform to do that.\"}],\n",
       " [{'summary_text': \"It doesn't store any kind of user data. I don't know if it's in service or it's an on Prem solution but doesn't process any of atea data.\"}],\n",
       " [{'summary_text': 'It is of course true that we have agreed. We will free up a little bit of time in regards to support as we have now with ACP.'}],\n",
       " [{'summary_text': \"Atea's solution is the recommended solution. We need to get experience. Atea does customer Orient that not have any solution of the kind available today.\"}],\n",
       " [{'summary_text': 'We only have one option that we are putting forward, right? But I my question is just you know pure on financials, if they say the other one is less expensive, we suggest you go with that one unless you see big issues with it.'}],\n",
       " [{'summary_text': 'No. We lose by going with for example PRODUCT B, because it is a less mature solution than Langdon.Yeah, I would.'}],\n",
       " [{'summary_text': \"The administration office is more technical than the vendor. And by that the administration office seems more technical, let's say it's this way and given the fact that it will be.\"}],\n",
       " [{'summary_text': 'The Portfolio Council will be the first one to adopt this platform. You know, if he commerce and life cycle management needs it, then we should push this forward.'}],\n",
       " [{'summary_text': \"If there's more to be done, let's see if we can do more. Having a system that is licensed per user by active user or just per user isn't does not work for atea.\"}],\n",
       " [{'summary_text': \"It's a national holiday in Latvia, so we would be very few people in in the meeting.Next week we will have pre study from PERSON L.\"}],\n",
       " \"That's why we're here. See you next Thursday.Thank you.Alright.Thank you. Bye bye.\"]"
      ]
     },
     "execution_count": 91,
     "metadata": {},
     "output_type": "execute_result"
    }
   ],
   "source": [
    "chunks"
   ]
  },
  {
   "cell_type": "code",
   "execution_count": null,
   "id": "962f7ec0",
   "metadata": {},
   "outputs": [],
   "source": []
  }
 ],
 "metadata": {
  "kernelspec": {
   "display_name": "microsoft_team_automation_software",
   "language": "python",
   "name": "microsoft_team_automation_software"
  },
  "language_info": {
   "codemirror_mode": {
    "name": "ipython",
    "version": 3
   },
   "file_extension": ".py",
   "mimetype": "text/x-python",
   "name": "python",
   "nbconvert_exporter": "python",
   "pygments_lexer": "ipython3",
   "version": "3.9.0"
  }
 },
 "nbformat": 4,
 "nbformat_minor": 5
}
