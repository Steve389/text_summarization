{
 "cells": [
  {
   "cell_type": "markdown",
   "id": "8ed4a2c0",
   "metadata": {},
   "source": [
    "# Using facebook-bart-large-cnn model and keybert to summarize text and extract keywords."
   ]
  },
  {
   "cell_type": "markdown",
   "id": "fd80947f",
   "metadata": {},
   "source": [
    "### 1. Import the necessary dependencies and instantiate summarizer object."
   ]
  },
  {
   "cell_type": "code",
   "execution_count": 2,
   "id": "539fb5a8",
   "metadata": {},
   "outputs": [],
   "source": [
    "import pandas as pd\n",
    "import json\n",
    "from nltk import tokenize\n",
    "from transformers import pipeline\n",
    "from keybert import KeyBERT\n",
    "\n",
    "summarizer = pipeline(\"summarization\", model=\"facebook/bart-large-cnn\")"
   ]
  },
  {
   "cell_type": "markdown",
   "id": "fad99062",
   "metadata": {},
   "source": [
    "### 2.. Import the csv file, extract the text as a new line separated concatenated string, then tokenize the text.\n",
    "\n",
    "After importing the csv file as a dataframe, I want to extract the text column as a concatenation of strings. Once I have the text in the desired format, I will use 'sent_tokenize' to identify all the sentences in the text."
   ]
  },
  {
   "cell_type": "code",
   "execution_count": 3,
   "id": "4a92f4e7",
   "metadata": {},
   "outputs": [],
   "source": [
    "transcript_df = pd.read_csv('transcript.csv')\n",
    "transcript_df.columns = ['person_name','text']\n",
    "text = transcript_df.text.str.cat(sep='')\n",
    "sentences = tokenize.sent_tokenize(text)"
   ]
  },
  {
   "cell_type": "markdown",
   "id": "533585f2",
   "metadata": {},
   "source": [
    "### 3. Divide the text in chunks of 10 sentences each and see how many chunks there are."
   ]
  },
  {
   "cell_type": "code",
   "execution_count": 4,
   "id": "dd9a63a3",
   "metadata": {},
   "outputs": [
    {
     "data": {
      "text/plain": [
       "17"
      ]
     },
     "execution_count": 4,
     "metadata": {},
     "output_type": "execute_result"
    }
   ],
   "source": [
    "chunks = [sentences[x:x+10] for x in range(0, len(sentences), 10)]\n",
    "\n",
    "len(chunks)\n"
   ]
  },
  {
   "cell_type": "markdown",
   "id": "4ce5bd52",
   "metadata": {},
   "source": [
    "### 4. Loop through the chunks and summarize them."
   ]
  },
  {
   "cell_type": "code",
   "execution_count": null,
   "id": "cf486433",
   "metadata": {},
   "outputs": [],
   "source": [
    "for i in range(16):\n",
    "    chunks[i] = summarizer(chunks[i], max_length=130, min_length=30)"
   ]
  },
  {
   "cell_type": "code",
   "execution_count": 21,
   "id": "9680f33f",
   "metadata": {},
   "outputs": [
    {
     "data": {
      "text/plain": [
       "[[{'summary_text': \"We are surrounded by software. It is present in any kind of devices nowadays, starting from.Transportation like planes, cars, uh space shuttles. It's everywhere and it's connected and. it's getting more and more involved with with us humans.\"}],\n",
       " [{'summary_text': \"Umm. So it's the.Tool tips, announcements, walkthroughs.Any kind of self service functionality guidance through. And of course there comes many benefits with such platforms or such tools or.Augmenting augmentation of the existing tools we have or or customer services.\"}],\n",
       " [{'summary_text': 'The market and the digital option solutions is growing rapidly and companies are investing heavily to make sure that the products and services are. are usable. If atea wants to be ahead of the curve and be market leader, we need to know what customers want.'}],\n",
       " [{'summary_text': 'Most of the tools, if not all of them meet the the all basic business requirements. But they, as they say, the devil is always in the detail and only in demos we could really see the true nature of those platforms. So what is our recommendation?'}],\n",
       " [{'summary_text': 'I have a question on the pricing. I know PRODUCT C is very pricey, but it sounds like you are also really impressed by what it offers us. What is would there be anything that actually? would allow us to pay that price in in other benefits.'}],\n",
       " [{'summary_text': \"3rd Part I have is you know what kind of tool is this because I have a little bit of an issue to position this. To me it's the tools and methods application or tool set. You know something that you use to enhance other tools. It's not a tool that that you provide to the end user directly.\"}],\n",
       " [{'summary_text': 'I would, I would follow up and I want and have it. Could we used it for PRODUCT E instead of the PRODUCT D. Now could we have one too?We could have, yeah.'}],\n",
       " [{'summary_text': \"It's a it's a sad solution. It's basically.Courtney, but that is added to the web page which invokes a JavaScript library. It doesn't store any kind of user data.\"}],\n",
       " [{'summary_text': '40 myatea part we had meetings with Daniel and.Hello I think ohh and they are taking over that they have the capabilities and resources to do that for each shop. That is how the demand started all the way back in March 21.'}],\n",
       " [{'summary_text': 'Robert. Atea does customer Orient that not have any solution of the kind available today. We need to get experience. If this is also something to be used in internal systems, obviously make sense.'}],\n",
       " [{'summary_text': \"I don't see immediately thinking back about the demos, the dialogues where we were involved, where I was involved. I don't expect them just from a cost perspective because at the is my father most expensive one. So let's just state that the existing team can take care of it.\"}],\n",
       " [{'summary_text': 'Product A is quicker to adopt and get in. So we will be more speed. That is what we that is why it ended up with user laid. We lose by going with for example PRODUCT B.'}],\n",
       " [{'summary_text': \"The administration office seems more technical, let's say it's this way and given the fact that it will be. Hot core technical people needing to work with this. That that is PRODUCT A then easier to go to as it looks.\"}],\n",
       " [{'summary_text': \"The pricing for the license is €99,000 from a year, not a month, a year for those four applications. I set up implementation for the setup implementation project for 19,000. That means the first year it's 100 and 18,000 as it was stated.\"}],\n",
       " [{'summary_text': \"Having a system that is licensed per user by active user or just per user isn't does not work for atea. We of course from the pricing had already PERSON L having a good dialogue with him and let's say it's this way.\"}],\n",
       " [{'summary_text': 'I have again going forward, I would like to see the North Star picture into the ITAC and just for information where we go to the portfolio Council, we also trying to highlight where we hit the must win battles.'}],\n",
       " [{'summary_text': \"That's why we're here. See you next Thursday.Thank you.Alright.Thank you. Bye bye.\"}]]"
      ]
     },
     "execution_count": 21,
     "metadata": {},
     "output_type": "execute_result"
    }
   ],
   "source": [
    "chunks"
   ]
  },
  {
   "cell_type": "markdown",
   "id": "f99939ed",
   "metadata": {},
   "source": [
    "### 5. Loop through the summarized chunks, subset the summarized text and append it to a new list. After that, join all the strings together in one unified summarized text."
   ]
  },
  {
   "cell_type": "code",
   "execution_count": 23,
   "id": "67178678",
   "metadata": {},
   "outputs": [],
   "source": [
    "summary_list = []\n",
    "\n",
    "for chunk in chunks:\n",
    "    summary_list.append(chunk[0]['summary_text'])\n",
    "        "
   ]
  },
  {
   "cell_type": "code",
   "execution_count": 24,
   "id": "16ea258c",
   "metadata": {},
   "outputs": [
    {
     "data": {
      "text/plain": [
       "[\"We are surrounded by software. It is present in any kind of devices nowadays, starting from.Transportation like planes, cars, uh space shuttles. It's everywhere and it's connected and. it's getting more and more involved with with us humans.\",\n",
       " \"Umm. So it's the.Tool tips, announcements, walkthroughs.Any kind of self service functionality guidance through. And of course there comes many benefits with such platforms or such tools or.Augmenting augmentation of the existing tools we have or or customer services.\",\n",
       " 'The market and the digital option solutions is growing rapidly and companies are investing heavily to make sure that the products and services are. are usable. If atea wants to be ahead of the curve and be market leader, we need to know what customers want.',\n",
       " 'Most of the tools, if not all of them meet the the all basic business requirements. But they, as they say, the devil is always in the detail and only in demos we could really see the true nature of those platforms. So what is our recommendation?',\n",
       " 'I have a question on the pricing. I know PRODUCT C is very pricey, but it sounds like you are also really impressed by what it offers us. What is would there be anything that actually? would allow us to pay that price in in other benefits.',\n",
       " \"3rd Part I have is you know what kind of tool is this because I have a little bit of an issue to position this. To me it's the tools and methods application or tool set. You know something that you use to enhance other tools. It's not a tool that that you provide to the end user directly.\",\n",
       " 'I would, I would follow up and I want and have it. Could we used it for PRODUCT E instead of the PRODUCT D. Now could we have one too?We could have, yeah.',\n",
       " \"It's a it's a sad solution. It's basically.Courtney, but that is added to the web page which invokes a JavaScript library. It doesn't store any kind of user data.\",\n",
       " '40 myatea part we had meetings with Daniel and.Hello I think ohh and they are taking over that they have the capabilities and resources to do that for each shop. That is how the demand started all the way back in March 21.',\n",
       " 'Robert. Atea does customer Orient that not have any solution of the kind available today. We need to get experience. If this is also something to be used in internal systems, obviously make sense.',\n",
       " \"I don't see immediately thinking back about the demos, the dialogues where we were involved, where I was involved. I don't expect them just from a cost perspective because at the is my father most expensive one. So let's just state that the existing team can take care of it.\",\n",
       " 'Product A is quicker to adopt and get in. So we will be more speed. That is what we that is why it ended up with user laid. We lose by going with for example PRODUCT B.',\n",
       " \"The administration office seems more technical, let's say it's this way and given the fact that it will be. Hot core technical people needing to work with this. That that is PRODUCT A then easier to go to as it looks.\",\n",
       " \"The pricing for the license is €99,000 from a year, not a month, a year for those four applications. I set up implementation for the setup implementation project for 19,000. That means the first year it's 100 and 18,000 as it was stated.\",\n",
       " \"Having a system that is licensed per user by active user or just per user isn't does not work for atea. We of course from the pricing had already PERSON L having a good dialogue with him and let's say it's this way.\",\n",
       " 'I have again going forward, I would like to see the North Star picture into the ITAC and just for information where we go to the portfolio Council, we also trying to highlight where we hit the must win battles.',\n",
       " \"That's why we're here. See you next Thursday.Thank you.Alright.Thank you. Bye bye.\"]"
      ]
     },
     "execution_count": 24,
     "metadata": {},
     "output_type": "execute_result"
    }
   ],
   "source": [
    "summary_list"
   ]
  },
  {
   "cell_type": "code",
   "execution_count": 25,
   "id": "9feed807",
   "metadata": {},
   "outputs": [],
   "source": [
    "summarized = ''.join(summary_list)"
   ]
  },
  {
   "cell_type": "code",
   "execution_count": 26,
   "id": "e197bff7",
   "metadata": {},
   "outputs": [
    {
     "data": {
      "text/plain": [
       "\"We are surrounded by software. It is present in any kind of devices nowadays, starting from.Transportation like planes, cars, uh space shuttles. It's everywhere and it's connected and. it's getting more and more involved with with us humans.Umm. So it's the.Tool tips, announcements, walkthroughs.Any kind of self service functionality guidance through. And of course there comes many benefits with such platforms or such tools or.Augmenting augmentation of the existing tools we have or or customer services.The market and the digital option solutions is growing rapidly and companies are investing heavily to make sure that the products and services are. are usable. If atea wants to be ahead of the curve and be market leader, we need to know what customers want.Most of the tools, if not all of them meet the the all basic business requirements. But they, as they say, the devil is always in the detail and only in demos we could really see the true nature of those platforms. So what is our recommendation?I have a question on the pricing. I know PRODUCT C is very pricey, but it sounds like you are also really impressed by what it offers us. What is would there be anything that actually? would allow us to pay that price in in other benefits.3rd Part I have is you know what kind of tool is this because I have a little bit of an issue to position this. To me it's the tools and methods application or tool set. You know something that you use to enhance other tools. It's not a tool that that you provide to the end user directly.I would, I would follow up and I want and have it. Could we used it for PRODUCT E instead of the PRODUCT D. Now could we have one too?We could have, yeah.It's a it's a sad solution. It's basically.Courtney, but that is added to the web page which invokes a JavaScript library. It doesn't store any kind of user data.40 myatea part we had meetings with Daniel and.Hello I think ohh and they are taking over that they have the capabilities and resources to do that for each shop. That is how the demand started all the way back in March 21.Robert. Atea does customer Orient that not have any solution of the kind available today. We need to get experience. If this is also something to be used in internal systems, obviously make sense.I don't see immediately thinking back about the demos, the dialogues where we were involved, where I was involved. I don't expect them just from a cost perspective because at the is my father most expensive one. So let's just state that the existing team can take care of it.Product A is quicker to adopt and get in. So we will be more speed. That is what we that is why it ended up with user laid. We lose by going with for example PRODUCT B.The administration office seems more technical, let's say it's this way and given the fact that it will be. Hot core technical people needing to work with this. That that is PRODUCT A then easier to go to as it looks.The pricing for the license is €99,000 from a year, not a month, a year for those four applications. I set up implementation for the setup implementation project for 19,000. That means the first year it's 100 and 18,000 as it was stated.Having a system that is licensed per user by active user or just per user isn't does not work for atea. We of course from the pricing had already PERSON L having a good dialogue with him and let's say it's this way.I have again going forward, I would like to see the North Star picture into the ITAC and just for information where we go to the portfolio Council, we also trying to highlight where we hit the must win battles.That's why we're here. See you next Thursday.Thank you.Alright.Thank you. Bye bye.\""
      ]
     },
     "execution_count": 26,
     "metadata": {},
     "output_type": "execute_result"
    }
   ],
   "source": [
    "summarized"
   ]
  },
  {
   "cell_type": "code",
   "execution_count": 142,
   "id": "1ee0725c",
   "metadata": {},
   "outputs": [],
   "source": [
    "%config Completer.use_jedi=False"
   ]
  },
  {
   "cell_type": "markdown",
   "id": "187c804a",
   "metadata": {},
   "source": [
    "### 5. Instantiate KeyBERT model and extract the top 10 keywords in the text."
   ]
  },
  {
   "cell_type": "code",
   "execution_count": 144,
   "id": "1fc0a8c9",
   "metadata": {},
   "outputs": [
    {
     "name": "stderr",
     "output_type": "stream",
     "text": [
      "2022-06-18 23:27:16,795 : INFO : Load pretrained SentenceTransformer: distilbert-base-nli-mean-tokens\n",
      "2022-06-18 23:27:24,818 : INFO : Use pytorch device: cpu\n"
     ]
    }
   ],
   "source": [
    "model = KeyBERT(model=\"distilbert-base-nli-mean-tokens\")"
   ]
  },
  {
   "cell_type": "code",
   "execution_count": 172,
   "id": "8b2be96f",
   "metadata": {},
   "outputs": [
    {
     "name": "stdout",
     "output_type": "stream",
     "text": [
      "CPU times: user 7.07 s, sys: 1.02 s, total: 8.09 s\n",
      "Wall time: 1.2 s\n"
     ]
    }
   ],
   "source": [
    "%%time\n",
    "out = model.extract_keywords(\n",
    "    summarized,\n",
    "    top_n=10,\n",
    "    keyphrase_ngram_range=(1, 1),\n",
    "    stop_words=\"english\",\n",
    ")"
   ]
  },
  {
   "cell_type": "code",
   "execution_count": 173,
   "id": "a14f9d2f",
   "metadata": {},
   "outputs": [
    {
     "data": {
      "text/plain": [
       "[('javascript', 0.3616),\n",
       " ('web', 0.3357),\n",
       " ('rapidly', 0.331),\n",
       " ('impressed', 0.3148),\n",
       " ('growing', 0.3116),\n",
       " ('augmentation', 0.3099),\n",
       " ('speed', 0.3088),\n",
       " ('space', 0.3049),\n",
       " ('cars', 0.3008),\n",
       " ('shuttles', 0.2977)]"
      ]
     },
     "execution_count": 173,
     "metadata": {},
     "output_type": "execute_result"
    }
   ],
   "source": [
    "out"
   ]
  },
  {
   "cell_type": "markdown",
   "id": "35e137df",
   "metadata": {},
   "source": [
    "### 6. Combine topics and summarized chunks in one json dictionary and then create two separate dataframes for the topics and for the summarized chunks."
   ]
  },
  {
   "cell_type": "code",
   "execution_count": 192,
   "id": "7818cbdc",
   "metadata": {},
   "outputs": [],
   "source": [
    "topics = []\n",
    "    \n",
    "for item in out:\n",
    "    topics.append(item[0])\n",
    "    output = {\n",
    "        \"topics\": topics,\n",
    "        \"summarized_rows\": summary_list\n",
    "    }\n",
    "    json.dumps(output)"
   ]
  },
  {
   "cell_type": "code",
   "execution_count": 193,
   "id": "65be44ca",
   "metadata": {},
   "outputs": [
    {
     "data": {
      "text/plain": [
       "{'topics': ['javascript',\n",
       "  'web',\n",
       "  'rapidly',\n",
       "  'impressed',\n",
       "  'growing',\n",
       "  'augmentation',\n",
       "  'speed',\n",
       "  'space',\n",
       "  'cars',\n",
       "  'shuttles'],\n",
       " 'summarized_rows': [\"We are surrounded by software. It is present in any kind of devices nowadays, starting from.Transportation like planes, cars, uh space shuttles. It's everywhere and it's connected and. it's getting more and more involved with with us humans.\",\n",
       "  \"Umm. So it's the.Tool tips, announcements, walkthroughs.Any kind of self service functionality guidance through. And of course there comes many benefits with such platforms or such tools or.Augmenting augmentation of the existing tools we have or or customer services.\",\n",
       "  'The market and the digital option solutions is growing rapidly and companies are investing heavily to make sure that the products and services are. are usable. If atea wants to be ahead of the curve and be market leader, we need to know what customers want.',\n",
       "  'Most of the tools, if not all of them meet the the all basic business requirements. But they, as they say, the devil is always in the detail and only in demos we could really see the true nature of those platforms. So what is our recommendation?',\n",
       "  'I have a question on the pricing. I know PRODUCT C is very pricey, but it sounds like you are also really impressed by what it offers us. What is would there be anything that actually? would allow us to pay that price in in other benefits.',\n",
       "  \"3rd Part I have is you know what kind of tool is this because I have a little bit of an issue to position this. To me it's the tools and methods application or tool set. You know something that you use to enhance other tools. It's not a tool that that you provide to the end user directly.\",\n",
       "  'I would, I would follow up and I want and have it. Could we used it for PRODUCT E instead of the PRODUCT D. Now could we have one too?We could have, yeah.',\n",
       "  \"It's a it's a sad solution. It's basically.Courtney, but that is added to the web page which invokes a JavaScript library. It doesn't store any kind of user data.\",\n",
       "  '40 myatea part we had meetings with Daniel and.Hello I think ohh and they are taking over that they have the capabilities and resources to do that for each shop. That is how the demand started all the way back in March 21.',\n",
       "  'Robert. Atea does customer Orient that not have any solution of the kind available today. We need to get experience. If this is also something to be used in internal systems, obviously make sense.',\n",
       "  \"I don't see immediately thinking back about the demos, the dialogues where we were involved, where I was involved. I don't expect them just from a cost perspective because at the is my father most expensive one. So let's just state that the existing team can take care of it.\",\n",
       "  'Product A is quicker to adopt and get in. So we will be more speed. That is what we that is why it ended up with user laid. We lose by going with for example PRODUCT B.',\n",
       "  \"The administration office seems more technical, let's say it's this way and given the fact that it will be. Hot core technical people needing to work with this. That that is PRODUCT A then easier to go to as it looks.\",\n",
       "  \"The pricing for the license is €99,000 from a year, not a month, a year for those four applications. I set up implementation for the setup implementation project for 19,000. That means the first year it's 100 and 18,000 as it was stated.\",\n",
       "  \"Having a system that is licensed per user by active user or just per user isn't does not work for atea. We of course from the pricing had already PERSON L having a good dialogue with him and let's say it's this way.\",\n",
       "  'I have again going forward, I would like to see the North Star picture into the ITAC and just for information where we go to the portfolio Council, we also trying to highlight where we hit the must win battles.']}"
      ]
     },
     "execution_count": 193,
     "metadata": {},
     "output_type": "execute_result"
    }
   ],
   "source": [
    "output"
   ]
  },
  {
   "cell_type": "code",
   "execution_count": 215,
   "id": "567aae7a",
   "metadata": {},
   "outputs": [
    {
     "data": {
      "text/html": [
       "<div>\n",
       "<style scoped>\n",
       "    .dataframe tbody tr th:only-of-type {\n",
       "        vertical-align: middle;\n",
       "    }\n",
       "\n",
       "    .dataframe tbody tr th {\n",
       "        vertical-align: top;\n",
       "    }\n",
       "\n",
       "    .dataframe thead th {\n",
       "        text-align: right;\n",
       "    }\n",
       "</style>\n",
       "<table border=\"1\" class=\"dataframe\">\n",
       "  <thead>\n",
       "    <tr style=\"text-align: right;\">\n",
       "      <th></th>\n",
       "      <th>topics</th>\n",
       "    </tr>\n",
       "  </thead>\n",
       "  <tbody>\n",
       "    <tr>\n",
       "      <th>0</th>\n",
       "      <td>javascript</td>\n",
       "    </tr>\n",
       "    <tr>\n",
       "      <th>1</th>\n",
       "      <td>web</td>\n",
       "    </tr>\n",
       "    <tr>\n",
       "      <th>2</th>\n",
       "      <td>rapidly</td>\n",
       "    </tr>\n",
       "    <tr>\n",
       "      <th>3</th>\n",
       "      <td>impressed</td>\n",
       "    </tr>\n",
       "    <tr>\n",
       "      <th>4</th>\n",
       "      <td>growing</td>\n",
       "    </tr>\n",
       "    <tr>\n",
       "      <th>5</th>\n",
       "      <td>augmentation</td>\n",
       "    </tr>\n",
       "    <tr>\n",
       "      <th>6</th>\n",
       "      <td>speed</td>\n",
       "    </tr>\n",
       "    <tr>\n",
       "      <th>7</th>\n",
       "      <td>space</td>\n",
       "    </tr>\n",
       "    <tr>\n",
       "      <th>8</th>\n",
       "      <td>cars</td>\n",
       "    </tr>\n",
       "    <tr>\n",
       "      <th>9</th>\n",
       "      <td>shuttles</td>\n",
       "    </tr>\n",
       "  </tbody>\n",
       "</table>\n",
       "</div>"
      ],
      "text/plain": [
       "         topics\n",
       "0    javascript\n",
       "1           web\n",
       "2       rapidly\n",
       "3     impressed\n",
       "4       growing\n",
       "5  augmentation\n",
       "6         speed\n",
       "7         space\n",
       "8          cars\n",
       "9      shuttles"
      ]
     },
     "execution_count": 215,
     "metadata": {},
     "output_type": "execute_result"
    }
   ],
   "source": [
    "topics = pd.DataFrame(output['topics'])\n",
    "topics.rename(columns = {0:'topics'}, inplace=True)\n",
    "topics"
   ]
  },
  {
   "cell_type": "code",
   "execution_count": 216,
   "id": "d01f1ba4",
   "metadata": {},
   "outputs": [
    {
     "data": {
      "text/html": [
       "<div>\n",
       "<style scoped>\n",
       "    .dataframe tbody tr th:only-of-type {\n",
       "        vertical-align: middle;\n",
       "    }\n",
       "\n",
       "    .dataframe tbody tr th {\n",
       "        vertical-align: top;\n",
       "    }\n",
       "\n",
       "    .dataframe thead th {\n",
       "        text-align: right;\n",
       "    }\n",
       "</style>\n",
       "<table border=\"1\" class=\"dataframe\">\n",
       "  <thead>\n",
       "    <tr style=\"text-align: right;\">\n",
       "      <th></th>\n",
       "      <th>summaries</th>\n",
       "    </tr>\n",
       "  </thead>\n",
       "  <tbody>\n",
       "    <tr>\n",
       "      <th>0</th>\n",
       "      <td>We are surrounded by software. It is present in any kind of devices nowadays, starting from.Transportation like planes, cars, uh space shuttles. It's everywhere and it's connected and. it's getting more and more involved with with us humans.</td>\n",
       "    </tr>\n",
       "    <tr>\n",
       "      <th>1</th>\n",
       "      <td>Umm. So it's the.Tool tips, announcements, walkthroughs.Any kind of self service functionality guidance through. And of course there comes many benefits with such platforms or such tools or.Augmenting augmentation of the existing tools we have or or customer services.</td>\n",
       "    </tr>\n",
       "    <tr>\n",
       "      <th>2</th>\n",
       "      <td>The market and the digital option solutions is growing rapidly and companies are investing heavily to make sure that the products and services are. are usable. If atea wants to be ahead of the curve and be market leader, we need to know what customers want.</td>\n",
       "    </tr>\n",
       "    <tr>\n",
       "      <th>3</th>\n",
       "      <td>Most of the tools, if not all of them meet the the all basic business requirements. But they, as they say, the devil is always in the detail and only in demos we could really see the true nature of those platforms. So what is our recommendation?</td>\n",
       "    </tr>\n",
       "    <tr>\n",
       "      <th>4</th>\n",
       "      <td>I have a question on the pricing. I know PRODUCT C is very pricey, but it sounds like you are also really impressed by what it offers us. What is would there be anything that actually? would allow us to pay that price in in other benefits.</td>\n",
       "    </tr>\n",
       "    <tr>\n",
       "      <th>5</th>\n",
       "      <td>3rd Part I have is you know what kind of tool is this because I have a little bit of an issue to position this. To me it's the tools and methods application or tool set. You know something that you use to enhance other tools. It's not a tool that that you provide to the end user directly.</td>\n",
       "    </tr>\n",
       "    <tr>\n",
       "      <th>6</th>\n",
       "      <td>I would, I would follow up and I want and have it. Could we used it for PRODUCT E instead of the PRODUCT D. Now could we have one too?We could have, yeah.</td>\n",
       "    </tr>\n",
       "    <tr>\n",
       "      <th>7</th>\n",
       "      <td>It's a it's a sad solution. It's basically.Courtney, but that is added to the web page which invokes a JavaScript library. It doesn't store any kind of user data.</td>\n",
       "    </tr>\n",
       "    <tr>\n",
       "      <th>8</th>\n",
       "      <td>40 myatea part we had meetings with Daniel and.Hello I think ohh and they are taking over that they have the capabilities and resources to do that for each shop. That is how the demand started all the way back in March 21.</td>\n",
       "    </tr>\n",
       "    <tr>\n",
       "      <th>9</th>\n",
       "      <td>Robert. Atea does customer Orient that not have any solution of the kind available today. We need to get experience. If this is also something to be used in internal systems, obviously make sense.</td>\n",
       "    </tr>\n",
       "    <tr>\n",
       "      <th>10</th>\n",
       "      <td>I don't see immediately thinking back about the demos, the dialogues where we were involved, where I was involved. I don't expect them just from a cost perspective because at the is my father most expensive one. So let's just state that the existing team can take care of it.</td>\n",
       "    </tr>\n",
       "    <tr>\n",
       "      <th>11</th>\n",
       "      <td>Product A is quicker to adopt and get in. So we will be more speed. That is what we that is why it ended up with user laid. We lose by going with for example PRODUCT B.</td>\n",
       "    </tr>\n",
       "    <tr>\n",
       "      <th>12</th>\n",
       "      <td>The administration office seems more technical, let's say it's this way and given the fact that it will be. Hot core technical people needing to work with this. That that is PRODUCT A then easier to go to as it looks.</td>\n",
       "    </tr>\n",
       "    <tr>\n",
       "      <th>13</th>\n",
       "      <td>The pricing for the license is €99,000 from a year, not a month, a year for those four applications. I set up implementation for the setup implementation project for 19,000. That means the first year it's 100 and 18,000 as it was stated.</td>\n",
       "    </tr>\n",
       "    <tr>\n",
       "      <th>14</th>\n",
       "      <td>Having a system that is licensed per user by active user or just per user isn't does not work for atea. We of course from the pricing had already PERSON L having a good dialogue with him and let's say it's this way.</td>\n",
       "    </tr>\n",
       "    <tr>\n",
       "      <th>15</th>\n",
       "      <td>I have again going forward, I would like to see the North Star picture into the ITAC and just for information where we go to the portfolio Council, we also trying to highlight where we hit the must win battles.</td>\n",
       "    </tr>\n",
       "  </tbody>\n",
       "</table>\n",
       "</div>"
      ],
      "text/plain": [
       "                                                                                                                                                                                                                                                                                            summaries\n",
       "0                                                   We are surrounded by software. It is present in any kind of devices nowadays, starting from.Transportation like planes, cars, uh space shuttles. It's everywhere and it's connected and. it's getting more and more involved with with us humans.\n",
       "1                        Umm. So it's the.Tool tips, announcements, walkthroughs.Any kind of self service functionality guidance through. And of course there comes many benefits with such platforms or such tools or.Augmenting augmentation of the existing tools we have or or customer services.\n",
       "2                                   The market and the digital option solutions is growing rapidly and companies are investing heavily to make sure that the products and services are. are usable. If atea wants to be ahead of the curve and be market leader, we need to know what customers want.\n",
       "3                                               Most of the tools, if not all of them meet the the all basic business requirements. But they, as they say, the devil is always in the detail and only in demos we could really see the true nature of those platforms. So what is our recommendation?\n",
       "4                                                     I have a question on the pricing. I know PRODUCT C is very pricey, but it sounds like you are also really impressed by what it offers us. What is would there be anything that actually? would allow us to pay that price in in other benefits.\n",
       "5   3rd Part I have is you know what kind of tool is this because I have a little bit of an issue to position this. To me it's the tools and methods application or tool set. You know something that you use to enhance other tools. It's not a tool that that you provide to the end user directly.\n",
       "6                                                                                                                                          I would, I would follow up and I want and have it. Could we used it for PRODUCT E instead of the PRODUCT D. Now could we have one too?We could have, yeah.\n",
       "7                                                                                                                                  It's a it's a sad solution. It's basically.Courtney, but that is added to the web page which invokes a JavaScript library. It doesn't store any kind of user data.\n",
       "8                                                                      40 myatea part we had meetings with Daniel and.Hello I think ohh and they are taking over that they have the capabilities and resources to do that for each shop. That is how the demand started all the way back in March 21.\n",
       "9                                                                                                Robert. Atea does customer Orient that not have any solution of the kind available today. We need to get experience. If this is also something to be used in internal systems, obviously make sense.\n",
       "10                I don't see immediately thinking back about the demos, the dialogues where we were involved, where I was involved. I don't expect them just from a cost perspective because at the is my father most expensive one. So let's just state that the existing team can take care of it.\n",
       "11                                                                                                                           Product A is quicker to adopt and get in. So we will be more speed. That is what we that is why it ended up with user laid. We lose by going with for example PRODUCT B.\n",
       "12                                                                          The administration office seems more technical, let's say it's this way and given the fact that it will be. Hot core technical people needing to work with this. That that is PRODUCT A then easier to go to as it looks.\n",
       "13                                                      The pricing for the license is €99,000 from a year, not a month, a year for those four applications. I set up implementation for the setup implementation project for 19,000. That means the first year it's 100 and 18,000 as it was stated.\n",
       "14                                                                            Having a system that is licensed per user by active user or just per user isn't does not work for atea. We of course from the pricing had already PERSON L having a good dialogue with him and let's say it's this way.\n",
       "15                                                                                 I have again going forward, I would like to see the North Star picture into the ITAC and just for information where we go to the portfolio Council, we also trying to highlight where we hit the must win battles."
      ]
     },
     "execution_count": 216,
     "metadata": {},
     "output_type": "execute_result"
    }
   ],
   "source": [
    "summaries = pd.DataFrame(output['summarized_rows'])\n",
    "pd.options.display.max_colwidth = 400\n",
    "summaries.rename(columns= {0:'summaries'}, inplace=True)\n",
    "summaries"
   ]
  },
  {
   "cell_type": "code",
   "execution_count": null,
   "id": "cc976652",
   "metadata": {},
   "outputs": [],
   "source": []
  }
 ],
 "metadata": {
  "kernelspec": {
   "display_name": "microsoft_team_automation_software",
   "language": "python",
   "name": "microsoft_team_automation_software"
  },
  "language_info": {
   "codemirror_mode": {
    "name": "ipython",
    "version": 3
   },
   "file_extension": ".py",
   "mimetype": "text/x-python",
   "name": "python",
   "nbconvert_exporter": "python",
   "pygments_lexer": "ipython3",
   "version": "3.9.0"
  }
 },
 "nbformat": 4,
 "nbformat_minor": 5
}
