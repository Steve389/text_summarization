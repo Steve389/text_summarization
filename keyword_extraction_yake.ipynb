{
 "cells": [
  {
   "cell_type": "markdown",
   "id": "494807bc",
   "metadata": {},
   "source": [
    "# Exctracting keywords from text with yake."
   ]
  },
  {
   "cell_type": "code",
   "execution_count": 4,
   "id": "888c143d",
   "metadata": {},
   "outputs": [],
   "source": [
    "import pandas as pd\n",
    "import yake\n",
    "\n",
    "transcript_df = pd.read_csv('transcript.csv')\n",
    "transcript_df.columns = ['person_name','text']\n",
    "text = transcript_df.text.str.cat(sep='\\n')"
   ]
  },
  {
   "cell_type": "code",
   "execution_count": 6,
   "id": "966238a9",
   "metadata": {},
   "outputs": [
    {
     "name": "stdout",
     "output_type": "stream",
     "text": [
      "Keyphrase:  product : score 0.0026174016763835855\n",
      "Keyphrase:  yeah : score 0.006225170346834607\n",
      "Keyphrase:  portfolio council : score 0.0073966670635887705\n",
      "Keyphrase:  PERSON : score 0.013932779913554972\n",
      "Keyphrase:  product called PRODUCT : score 0.014815202897535759\n",
      "Keyphrase:  Good : score 0.017077525008163386\n",
      "Keyphrase:  council : score 0.017170842688987692\n",
      "Keyphrase:  solution : score 0.021901476176721262\n",
      "Keyphrase:  customer : score 0.02650381659915415\n",
      "Keyphrase:  kind : score 0.026776873712982638\n",
      "Keyphrase:  portfolio : score 0.02807008929140698\n",
      "Keyphrase:  user : score 0.029309403348164124\n",
      "Keyphrase:  customers : score 0.03445496157890039\n",
      "Keyphrase:  Umm : score 0.03625488567255174\n",
      "Keyphrase:  back : score 0.03940426563044066\n",
      "Keyphrase:  part : score 0.040638226662463\n",
      "Keyphrase:  applications : score 0.04173961948322662\n",
      "Keyphrase:  atea : score 0.04214242665449003\n",
      "Keyphrase:  market : score 0.046128647044467376\n",
      "Keyphrase:  work : score 0.05097804286674953\n"
     ]
    }
   ],
   "source": [
    "kw_extractor = yake.KeywordExtractor(top=20, stopwords=None)\n",
    "keywords = kw_extractor.extract_keywords(text)\n",
    "for kw, v in keywords:\n",
    "  print(\"Keyphrase: \",kw, \": score\", v)"
   ]
  },
  {
   "cell_type": "code",
   "execution_count": null,
   "id": "a29b21c5",
   "metadata": {},
   "outputs": [],
   "source": []
  }
 ],
 "metadata": {
  "kernelspec": {
   "display_name": "microsoft_team_automation_software",
   "language": "python",
   "name": "microsoft_team_automation_software"
  },
  "language_info": {
   "codemirror_mode": {
    "name": "ipython",
    "version": 3
   },
   "file_extension": ".py",
   "mimetype": "text/x-python",
   "name": "python",
   "nbconvert_exporter": "python",
   "pygments_lexer": "ipython3",
   "version": "3.9.0"
  }
 },
 "nbformat": 4,
 "nbformat_minor": 5
}
